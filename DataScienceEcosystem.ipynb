{
 "cells": [
  {
   "cell_type": "markdown",
   "id": "d2397da0-0f5a-4f03-8429-6e35f326ce54",
   "metadata": {},
   "source": [
    "*Exercise 2: Create markdown cell with title of the notebook*"
   ]
  },
  {
   "cell_type": "markdown",
   "id": "9aafe8d0-dab6-4d3f-80a8-ac8e7b3127c1",
   "metadata": {},
   "source": [
    "# Data Science Tools and Ecosystem"
   ]
  },
  {
   "cell_type": "markdown",
   "id": "ffe64f69-d177-4814-a09b-d7da7e958881",
   "metadata": {},
   "source": [
    "*Exercise 11 - Create a markdown cell to indicate the Author's name*"
   ]
  },
  {
   "cell_type": "markdown",
   "id": "0d31fdc2-5daf-464b-a0e4-41953b5089da",
   "metadata": {},
   "source": [
    "## Author\n",
    "Niklas"
   ]
  },
  {
   "cell_type": "markdown",
   "id": "f99645ac-2235-49c8-bb92-e94265077b16",
   "metadata": {},
   "source": [
    "*Exercise 3 - Create a markdown cell for an introduction*"
   ]
  },
  {
   "cell_type": "markdown",
   "id": "6f61ee9f-2895-472d-a8b8-88a51f311b03",
   "metadata": {},
   "source": [
    "### In this notebook, Data Science Tools and Ecosystem are summarized."
   ]
  },
  {
   "cell_type": "markdown",
   "id": "d49ed4d3-cd4f-47e6-a1ab-0f39c5fc2d1d",
   "metadata": {},
   "source": [
    "*Exercise 10 - Insert a markdown cell to list Objectives*"
   ]
  },
  {
   "cell_type": "markdown",
   "id": "cc70f62c-43fa-4537-b192-a511dfa7ea79",
   "metadata": {},
   "source": [
    "**Objectives:**\n",
    "- popular data science languages\n",
    "- commonly used libraries\n",
    "- data science tools\n",
    "- examples of arithmetic expressions in python"
   ]
  },
  {
   "cell_type": "markdown",
   "id": "30d5493b-987b-4d84-9d12-65dcc1803b49",
   "metadata": {},
   "source": [
    "*Exercise 4 - Create a markdown cell to list data science languages*"
   ]
  },
  {
   "cell_type": "markdown",
   "id": "97537945-5c27-4397-b4f9-91859aec9457",
   "metadata": {},
   "source": [
    "##### Some of the popular languages that Data Scientists use are:\n",
    "\n",
    "1. Python\n",
    "2. R\n",
    "3. Julia\n",
    "4. SQL\n",
    "5. Scala\n",
    "6. MATLAB\n",
    "7. Java"
   ]
  },
  {
   "cell_type": "markdown",
   "id": "23ab2a23-c9e2-4594-81ff-deefbf8e13f3",
   "metadata": {},
   "source": [
    "*Exercise 5 - Create a markdown cell to list data science libraries*"
   ]
  },
  {
   "cell_type": "markdown",
   "id": "f3b8ffa8-d6af-4362-853d-f63167a1a265",
   "metadata": {},
   "source": [
    "##### Some of the commonly used libraries used by Data Scientists include:\n",
    "###### Python:\n",
    "1. **NumPy**: arrays and matrices\n",
    "2. **TensorFlow / PyTorch**: Deep learning (neural networks)\n",
    "3. **Matplotlib**: visualizations\n",
    "4. **pandas**: data analysis of structured data\n",
    "5. **scikit-learn**: Machine learning library - data mining and data analysis\n",
    "6. **SciPy**: Open-source library used for scientific and technical computing\n",
    "\n",
    "###### R:\n",
    "1. **ggplot2**: A plotting system based on the grammar of graphics, allowing for highly customizable graphics.\n",
    "2. **dplyr**: Provides a set of tools for efficiently manipulating datasets in R.\n",
    "3. **caret**: Contains functions for training and plotting classification and regression models.\n",
    "4. **lubridate**: Makes it easier to work with date-time data in R.\n",
    "5. **tidyr**: Helps tidy messy datasets by reorganizing them into a consistent structure.\n",
    "\n",
    "###### SQL:\n",
    "1. **SQLAlchemy**: SQL toolkit and Object-Relational Mapping (ORM) library for Python.\n",
    "2. **pandasql**: Allows Python users to run SQL queries on pandas DataFrame objects.\n",
    "3. **Apache Spark SQL**: Part of the Apache Spark ecosystem, enabling querying structured data using SQL syntax."
   ]
  },
  {
   "cell_type": "markdown",
   "id": "98e70347-79b4-4a6f-8d1a-df4f0e19eec1",
   "metadata": {},
   "source": [
    "*Exercise 6 - Create a markdown cell with a table of Data Science tools*"
   ]
  },
  {
   "cell_type": "markdown",
   "id": "f66c7d0b-856e-48c5-bc06-37a4615ed69d",
   "metadata": {},
   "source": [
    "| Data Science Tools |\n",
    "| - |\n",
    "| PyCharm |\n",
    "| Spyder |\n",
    "| R Studio |\n",
    "| Anaconda |\n",
    "| Apache Hadoop |\n",
    "| Apache Spark |\n",
    "| Tableau |\n",
    "| Power BI |"
   ]
  },
  {
   "cell_type": "markdown",
   "id": "65a50514-0c64-434d-b343-b7217489c0af",
   "metadata": {},
   "source": [
    "*Exercise 7 - Create a markdown cell introducing arithmetic expression examples*"
   ]
  },
  {
   "cell_type": "markdown",
   "id": "dc016d72-a4f7-4e9c-8b97-51aadb92db93",
   "metadata": {},
   "source": [
    "### Below are a few examples of evaluating arithmetic expressions in Python:"
   ]
  },
  {
   "cell_type": "markdown",
   "id": "1b9b551e-f38f-4745-87cb-2cb3ce215de7",
   "metadata": {},
   "source": [
    "*Exercise 8 - Create a code cell to multiply and add numbers*"
   ]
  },
  {
   "cell_type": "code",
   "execution_count": 72,
   "id": "6cf49336-2774-4e1a-81ca-723d44729ed0",
   "metadata": {},
   "outputs": [
    {
     "name": "stdout",
     "output_type": "stream",
     "text": [
      "17\n"
     ]
    }
   ],
   "source": [
    "# This a simple arithmetic expression to mutiply then add integers\n",
    "x = (3*4)+5\n",
    "print(x)"
   ]
  },
  {
   "cell_type": "markdown",
   "id": "1f0fe76a-e8e1-4806-9090-f5cb301bdc77",
   "metadata": {},
   "source": [
    "*Exercise 9 - Create a code cell to convert minutes to hours*"
   ]
  },
  {
   "cell_type": "code",
   "execution_count": 77,
   "id": "700bc0a3-987a-45f0-9914-29d52cbcfdc1",
   "metadata": {},
   "outputs": [
    {
     "name": "stdout",
     "output_type": "stream",
     "text": [
      "3.3333333333333335\n"
     ]
    }
   ],
   "source": [
    "# This will convert 200 minutes to hours by diving by 60\n",
    "min = 200\n",
    "min_to_h = min/60\n",
    "print(min_to_h)"
   ]
  },
  {
   "cell_type": "markdown",
   "id": "fe5db291-696e-4189-acee-3e85a5d23c37",
   "metadata": {},
   "source": []
  }
 ],
 "metadata": {
  "kernelspec": {
   "display_name": "anaconda-panel-2023.05-py310",
   "language": "python",
   "name": "conda-env-anaconda-panel-2023.05-py310-py"
  },
  "language_info": {
   "codemirror_mode": {
    "name": "ipython",
    "version": 3
   },
   "file_extension": ".py",
   "mimetype": "text/x-python",
   "name": "python",
   "nbconvert_exporter": "python",
   "pygments_lexer": "ipython3",
   "version": "3.11.5"
  }
 },
 "nbformat": 4,
 "nbformat_minor": 5
}
